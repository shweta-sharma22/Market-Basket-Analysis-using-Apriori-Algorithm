{
 "cells": [
  {
   "cell_type": "code",
   "execution_count": 16,
   "id": "8abb7531-312a-4254-ac8f-06f2a6b1dd44",
   "metadata": {
    "tags": []
   },
   "outputs": [],
   "source": [
    "import numpy as np\n",
    "import pandas as pd\n",
    "from mlxtend.preprocessing import TransactionEncoder\n",
    "from mlxtend.frequent_patterns import apriori, association_rules\n",
    "import matplotlib.pyplot as plt\n"
   ]
  },
  {
   "cell_type": "code",
   "execution_count": 17,
   "id": "a97dfda9-03a9-4ff2-a283-28aaab94ef62",
   "metadata": {
    "tags": []
   },
   "outputs": [
    {
     "data": {
      "text/html": [
       "<div>\n",
       "<style scoped>\n",
       "    .dataframe tbody tr th:only-of-type {\n",
       "        vertical-align: middle;\n",
       "    }\n",
       "\n",
       "    .dataframe tbody tr th {\n",
       "        vertical-align: top;\n",
       "    }\n",
       "\n",
       "    .dataframe thead th {\n",
       "        text-align: right;\n",
       "    }\n",
       "</style>\n",
       "<table border=\"1\" class=\"dataframe\">\n",
       "  <thead>\n",
       "    <tr style=\"text-align: right;\">\n",
       "      <th></th>\n",
       "      <th>orio</th>\n",
       "      <th>chips</th>\n",
       "      <th>bread</th>\n",
       "      <th>butter</th>\n",
       "      <th>milk</th>\n",
       "      <th>apple</th>\n",
       "    </tr>\n",
       "  </thead>\n",
       "  <tbody>\n",
       "    <tr>\n",
       "      <th>0</th>\n",
       "      <td>orio</td>\n",
       "      <td>chips</td>\n",
       "      <td>bread</td>\n",
       "      <td>butter</td>\n",
       "      <td>milk</td>\n",
       "      <td>apple</td>\n",
       "    </tr>\n",
       "    <tr>\n",
       "      <th>1</th>\n",
       "      <td>orio</td>\n",
       "      <td>NaN</td>\n",
       "      <td>bread</td>\n",
       "      <td>butter</td>\n",
       "      <td>milk</td>\n",
       "      <td>NaN</td>\n",
       "    </tr>\n",
       "    <tr>\n",
       "      <th>2</th>\n",
       "      <td>NaN</td>\n",
       "      <td>NaN</td>\n",
       "      <td>bread</td>\n",
       "      <td>butter</td>\n",
       "      <td>milk</td>\n",
       "      <td>NaN</td>\n",
       "    </tr>\n",
       "    <tr>\n",
       "      <th>3</th>\n",
       "      <td>NaN</td>\n",
       "      <td>chips</td>\n",
       "      <td>NaN</td>\n",
       "      <td>NaN</td>\n",
       "      <td>NaN</td>\n",
       "      <td>apple</td>\n",
       "    </tr>\n",
       "    <tr>\n",
       "      <th>4</th>\n",
       "      <td>orio</td>\n",
       "      <td>chips</td>\n",
       "      <td>bread</td>\n",
       "      <td>butter</td>\n",
       "      <td>milk</td>\n",
       "      <td>apple</td>\n",
       "    </tr>\n",
       "  </tbody>\n",
       "</table>\n",
       "</div>"
      ],
      "text/plain": [
       "   orio  chips  bread  butter  milk  apple\n",
       "0  orio  chips  bread  butter  milk  apple\n",
       "1  orio    NaN  bread  butter  milk    NaN\n",
       "2   NaN    NaN  bread  butter  milk    NaN\n",
       "3   NaN  chips    NaN     NaN   NaN  apple\n",
       "4  orio  chips  bread  butter  milk  apple"
      ]
     },
     "execution_count": 17,
     "metadata": {},
     "output_type": "execute_result"
    }
   ],
   "source": [
    "data = pd.read_csv('AprioriDataSet.csv')\n",
    "data.head()"
   ]
  },
  {
   "cell_type": "code",
   "execution_count": 18,
   "id": "b4c59f32-5941-4897-aa51-409a09cb141b",
   "metadata": {
    "tags": []
   },
   "outputs": [
    {
     "data": {
      "text/html": [
       "<div>\n",
       "<style scoped>\n",
       "    .dataframe tbody tr th:only-of-type {\n",
       "        vertical-align: middle;\n",
       "    }\n",
       "\n",
       "    .dataframe tbody tr th {\n",
       "        vertical-align: top;\n",
       "    }\n",
       "\n",
       "    .dataframe thead th {\n",
       "        text-align: right;\n",
       "    }\n",
       "</style>\n",
       "<table border=\"1\" class=\"dataframe\">\n",
       "  <thead>\n",
       "    <tr style=\"text-align: right;\">\n",
       "      <th></th>\n",
       "      <th>orio</th>\n",
       "      <th>chips</th>\n",
       "      <th>bread</th>\n",
       "      <th>butter</th>\n",
       "      <th>milk</th>\n",
       "      <th>apple</th>\n",
       "    </tr>\n",
       "  </thead>\n",
       "  <tbody>\n",
       "    <tr>\n",
       "      <th>0</th>\n",
       "      <td>orio</td>\n",
       "      <td>chips</td>\n",
       "      <td>bread</td>\n",
       "      <td>butter</td>\n",
       "      <td>milk</td>\n",
       "      <td>apple</td>\n",
       "    </tr>\n",
       "    <tr>\n",
       "      <th>1</th>\n",
       "      <td>orio</td>\n",
       "      <td>0</td>\n",
       "      <td>bread</td>\n",
       "      <td>butter</td>\n",
       "      <td>milk</td>\n",
       "      <td>0</td>\n",
       "    </tr>\n",
       "    <tr>\n",
       "      <th>2</th>\n",
       "      <td>0</td>\n",
       "      <td>0</td>\n",
       "      <td>bread</td>\n",
       "      <td>butter</td>\n",
       "      <td>milk</td>\n",
       "      <td>0</td>\n",
       "    </tr>\n",
       "    <tr>\n",
       "      <th>3</th>\n",
       "      <td>0</td>\n",
       "      <td>chips</td>\n",
       "      <td>0</td>\n",
       "      <td>0</td>\n",
       "      <td>0</td>\n",
       "      <td>apple</td>\n",
       "    </tr>\n",
       "    <tr>\n",
       "      <th>4</th>\n",
       "      <td>orio</td>\n",
       "      <td>chips</td>\n",
       "      <td>bread</td>\n",
       "      <td>butter</td>\n",
       "      <td>milk</td>\n",
       "      <td>apple</td>\n",
       "    </tr>\n",
       "    <tr>\n",
       "      <th>...</th>\n",
       "      <td>...</td>\n",
       "      <td>...</td>\n",
       "      <td>...</td>\n",
       "      <td>...</td>\n",
       "      <td>...</td>\n",
       "      <td>...</td>\n",
       "    </tr>\n",
       "    <tr>\n",
       "      <th>112</th>\n",
       "      <td>orio</td>\n",
       "      <td>NaN</td>\n",
       "      <td>NaN</td>\n",
       "      <td>butter</td>\n",
       "      <td>milk</td>\n",
       "      <td>apple</td>\n",
       "    </tr>\n",
       "    <tr>\n",
       "      <th>113</th>\n",
       "      <td>orio</td>\n",
       "      <td>chips</td>\n",
       "      <td>bread</td>\n",
       "      <td>butter</td>\n",
       "      <td>milk</td>\n",
       "      <td>0</td>\n",
       "    </tr>\n",
       "    <tr>\n",
       "      <th>114</th>\n",
       "      <td>orio</td>\n",
       "      <td>NaN</td>\n",
       "      <td>bread</td>\n",
       "      <td>NaN</td>\n",
       "      <td>milk</td>\n",
       "      <td>apple</td>\n",
       "    </tr>\n",
       "    <tr>\n",
       "      <th>115</th>\n",
       "      <td>orio</td>\n",
       "      <td>NaN</td>\n",
       "      <td>bread</td>\n",
       "      <td>butter</td>\n",
       "      <td>milk</td>\n",
       "      <td>apple</td>\n",
       "    </tr>\n",
       "    <tr>\n",
       "      <th>116</th>\n",
       "      <td>orio</td>\n",
       "      <td>chips</td>\n",
       "      <td>bread</td>\n",
       "      <td>butter</td>\n",
       "      <td>milk</td>\n",
       "      <td>apple</td>\n",
       "    </tr>\n",
       "  </tbody>\n",
       "</table>\n",
       "<p>117 rows × 6 columns</p>\n",
       "</div>"
      ],
      "text/plain": [
       "      orio   chips   bread   butter   milk  apple\n",
       "0     orio   chips   bread   butter   milk  apple\n",
       "1     orio       0   bread   butter   milk      0\n",
       "2        0       0   bread   butter   milk      0\n",
       "3        0   chips       0        0      0  apple\n",
       "4     orio   chips   bread   butter   milk  apple\n",
       "..     ...     ...     ...      ...    ...    ...\n",
       "112  orio     NaN     NaN   butter   milk   apple\n",
       "113  orio   chips   bread   butter   milk       0\n",
       "114  orio     NaN   bread      NaN   milk   apple\n",
       "115  orio     NaN   bread   butter   milk   apple\n",
       "116  orio   chips   bread   butter   milk   apple\n",
       "\n",
       "[117 rows x 6 columns]"
      ]
     },
     "execution_count": 18,
     "metadata": {},
     "output_type": "execute_result"
    }
   ],
   "source": [
    "data = data.fillna(0)\n",
    "data"
   ]
  },
  {
   "cell_type": "code",
   "execution_count": 19,
   "id": "b9214cf6-9e08-4874-9fe7-cf862fe8c94c",
   "metadata": {
    "tags": []
   },
   "outputs": [
    {
     "name": "stdout",
     "output_type": "stream",
     "text": [
      "Cleaned Dataset:\n",
      "     orio  chips  bread  butter  milk  apple\n",
      "0       1      1      1       1     1      1\n",
      "1       1      0      1       1     1      0\n",
      "2       0      0      1       1     1      0\n",
      "3       0      1      0       0     0      1\n",
      "4       1      1      1       1     1      1\n",
      "..    ...    ...    ...     ...   ...    ...\n",
      "112     1      1      1       1     1      1\n",
      "113     1      1      1       1     1      0\n",
      "114     1      1      1       1     1      1\n",
      "115     1      1      1       1     1      1\n",
      "116     1      1      1       1     1      1\n",
      "\n",
      "[117 rows x 6 columns]\n"
     ]
    }
   ],
   "source": [
    "for column in data.columns:\n",
    "    data[column] = (data[column] != 0).astype(int)\n",
    "print(\"Cleaned Dataset:\")\n",
    "print(data)"
   ]
  },
  {
   "cell_type": "code",
   "execution_count": 20,
   "id": "d2a21031-2791-4bdc-a3de-c80710c2200a",
   "metadata": {
    "tags": []
   },
   "outputs": [
    {
     "name": "stderr",
     "output_type": "stream",
     "text": [
      "C:\\Users\\91953\\anaconda3\\Lib\\site-packages\\mlxtend\\frequent_patterns\\fpcommon.py:110: DeprecationWarning: DataFrames with non-bool types result in worse computationalperformance and their support might be discontinued in the future.Please use a DataFrame with bool type\n",
      "  warnings.warn(\n"
     ]
    }
   ],
   "source": [
    "frequent_itemsets = apriori(data, min_support=0.2, use_colnames=True)"
   ]
  },
  {
   "cell_type": "code",
   "execution_count": 21,
   "id": "44af9b41-458f-439a-8f43-797c717f6a46",
   "metadata": {
    "tags": []
   },
   "outputs": [
    {
     "name": "stdout",
     "output_type": "stream",
     "text": [
      "Frequent Itemsets:\n",
      "     support                                   itemsets\n",
      "0   0.974359                                     (orio)\n",
      "1   0.940171                                    (chips)\n",
      "2   0.965812                                    (bread)\n",
      "3   0.957265                                   (butter)\n",
      "4   0.965812                                     (milk)\n",
      "..       ...                                        ...\n",
      "58  0.581197          (apple, bread, orio, milk, chips)\n",
      "59  0.581197         (apple, orio, butter, milk, chips)\n",
      "60  0.589744         (apple, bread, orio, butter, milk)\n",
      "61  0.581197        (apple, bread, butter, milk, chips)\n",
      "62  0.581197  (apple, bread, orio, butter, milk, chips)\n",
      "\n",
      "[63 rows x 2 columns]\n"
     ]
    }
   ],
   "source": [
    "print(\"Frequent Itemsets:\")\n",
    "print(frequent_itemsets)"
   ]
  },
  {
   "cell_type": "code",
   "execution_count": 22,
   "id": "8a233d34-032a-40ec-9183-d592c048ff4b",
   "metadata": {
    "tags": []
   },
   "outputs": [],
   "source": [
    "rules = association_rules(frequent_itemsets, metric=\"confidence\", min_threshold=0.7)"
   ]
  },
  {
   "cell_type": "code",
   "execution_count": 23,
   "id": "77ce779a-e240-415f-93c7-9f699d1bc91c",
   "metadata": {
    "tags": []
   },
   "outputs": [
    {
     "name": "stdout",
     "output_type": "stream",
     "text": [
      "\n",
      "Association Rules:\n",
      "         antecedents                         consequents  antecedent support  \\\n",
      "0             (orio)                             (chips)            0.974359   \n",
      "1            (chips)                              (orio)            0.940171   \n",
      "2            (bread)                              (orio)            0.965812   \n",
      "3             (orio)                             (bread)            0.974359   \n",
      "4             (orio)                            (butter)            0.974359   \n",
      "..               ...                                 ...                 ...   \n",
      "386    (apple, orio)        (bread, butter, chips, milk)            0.623932   \n",
      "387  (apple, butter)          (bread, orio, chips, milk)            0.615385   \n",
      "388    (apple, milk)        (bread, orio, butter, chips)            0.606838   \n",
      "389   (apple, chips)         (bread, orio, butter, milk)            0.606838   \n",
      "390          (apple)  (bread, orio, butter, milk, chips)            0.641026   \n",
      "\n",
      "     consequent support   support  confidence      lift  leverage  conviction  \\\n",
      "0              0.940171  0.923077    0.947368  1.007656  0.007013    1.136752   \n",
      "1              0.974359  0.923077    0.981818  1.007656  0.007013    1.410256   \n",
      "2              0.974359  0.948718    0.982301  1.008151  0.007670    1.448718   \n",
      "3              0.965812  0.948718    0.973684  1.008151  0.007670    1.299145   \n",
      "4              0.957265  0.940171    0.964912  1.007989  0.007451    1.217949   \n",
      "..                  ...       ...         ...       ...       ...         ...   \n",
      "386            0.897436  0.581197    0.931507  1.037965  0.021258    1.497436   \n",
      "387            0.897436  0.581197    0.944444  1.052381  0.028928    1.846154   \n",
      "388            0.905983  0.581197    0.957746  1.057135  0.031412    2.225071   \n",
      "389            0.923077  0.581197    0.957746  1.037559  0.021039    1.820513   \n",
      "390            0.897436  0.581197    0.906667  1.010286  0.005917    1.098901   \n",
      "\n",
      "     zhangs_metric  \n",
      "0         0.296296  \n",
      "1         0.126984  \n",
      "2         0.236486  \n",
      "3         0.315315  \n",
      "4         0.309091  \n",
      "..             ...  \n",
      "386       0.097259  \n",
      "387       0.129412  \n",
      "388       0.137468  \n",
      "389       0.092072  \n",
      "390       0.028361  \n",
      "\n",
      "[391 rows x 10 columns]\n"
     ]
    }
   ],
   "source": [
    "print(\"\\nAssociation Rules:\")\n",
    "print(rules)"
   ]
  },
  {
   "cell_type": "code",
   "execution_count": 24,
   "id": "77b43581-f42c-41f4-b564-057afcc64b31",
   "metadata": {
    "tags": []
   },
   "outputs": [
    {
     "data": {
      "image/png": "[encoded data removed]",
      "text/plain": [
       "<Figure size 1000x600 with 1 Axes>"
      ]
     },
     "metadata": {},
     "output_type": "display_data"
    }
   ],
   "source": [
    "top_20_itemsets = frequent_itemsets.sort_values(by='support', ascending=False).head(20)\n",
    "plt.rcParams['figure.figsize'] = (10, 6)\n",
    "color = plt.cm.inferno(np.linspace(0, 1, 20))\n",
    "top_20_itemsets.plot.bar(x='itemsets', y='support', color='skyblue')\n",
    "plt.title('Top 20 Most Frequent Itemsets')\n",
    "plt.ylabel('Support')\n",
    "plt.xlabel('Itemsets')\n",
    "plt.show()"
   ]
  },
  {
   "cell_type": "code",
   "execution_count": null,
   "id": "79164dfc-5149-4366-a41d-9611838d559f",
   "metadata": {},
   "outputs": [],
   "source": []
  }
 ],
 "metadata": {
  "kernelspec": {
   "display_name": "Python 3 (ipykernel)",
   "language": "python",
   "name": "python3"
  },
  "language_info": {
   "codemirror_mode": {
    "name": "ipython",
    "version": 3
   },
   "file_extension": ".py",
   "mimetype": "text/x-python",
   "name": "python",
   "nbconvert_exporter": "python",
   "pygments_lexer": "ipython3",
   "version": "3.11.5"
  }
 },
 "nbformat": 4,
 "nbformat_minor": 5
}
